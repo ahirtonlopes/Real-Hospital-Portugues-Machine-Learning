{
  "nbformat": 4,
  "nbformat_minor": 0,
  "metadata": {
    "colab": {
      "provenance": []
    },
    "kernelspec": {
      "name": "python3",
      "display_name": "Python 3"
    },
    "language_info": {
      "name": "python"
    }
  },
  "cells": [
    {
      "cell_type": "markdown",
      "source": [
        "# Aula 1 - Treinamento Machine Learning - FIAP + Alura\n",
        "\n",
        "## Demonstração - A partir do dataset fictício, explanação a respeito de dados faltantes (missing values).\n",
        "\n",
        "### Prof. Dr. Ahirton Lopes (https://github.com/ahirtonlopes)"
      ],
      "metadata": {
        "id": "psNp1hLsuijc"
      }
    },
    {
      "cell_type": "markdown",
      "source": [
        "# Identificando Dados Faltantes em Dados de Clientes\n",
        "\n",
        "Criando um conjunto de dados de clientes de uma operadora de telecomunicações, com informações como ID do Cliente, Idade, Plano de Dados, e Valor da Fatura."
      ],
      "metadata": {
        "id": "1zfanhN-u1XP"
      }
    },
    {
      "cell_type": "code",
      "execution_count": null,
      "metadata": {
        "colab": {
          "base_uri": "https://localhost:8080/"
        },
        "id": "EIuJ_53yuQPJ",
        "outputId": "4a98d227-82d2-4c94-876f-44cf55406e32"
      },
      "outputs": [
        {
          "output_type": "stream",
          "name": "stdout",
          "text": [
            "   ID_Cliente  Idade  Plano_de_Dados  Valor_da_Fatura\n",
            "0       False  False           False            False\n",
            "1       False  False           False             True\n",
            "2       False   True           False            False\n",
            "3       False  False            True            False\n"
          ]
        }
      ],
      "source": [
        "import pandas as pd\n",
        "\n",
        "# Exemplo de DataFrame com dados de telecom\n",
        "data = {\n",
        "    'ID_Cliente': [1, 2, 3, 4],\n",
        "    'Idade': [25, 30, None, 40],\n",
        "    'Plano_de_Dados': ['Pós-Pago', 'Pós-Pago', 'Pré-Pago', None],\n",
        "    'Valor_da_Fatura': [150, None, 100, 200]\n",
        "}\n",
        "\n",
        "df = pd.DataFrame(data)\n",
        "\n",
        "# Verificando valores faltantes\n",
        "print(df.isnull())"
      ]
    },
    {
      "cell_type": "markdown",
      "source": [
        "2. Removendo Dados Faltantes em Telecomunicações\n",
        "\n",
        "É importante remover-mos registros incompletos ou corrigir dados faltantes, especialmente quando eles afetam as análises subsequentes."
      ],
      "metadata": {
        "id": "bVD0nzJRvAQy"
      }
    },
    {
      "cell_type": "code",
      "source": [
        "# Remover linhas com qualquer valor faltante\n",
        "df_dropped = df.dropna()\n",
        "print(df_dropped)\n",
        "\n",
        "# Remover colunas com qualquer valor faltante\n",
        "df_dropped_cols = df.dropna(axis=1)\n",
        "print(df_dropped_cols)"
      ],
      "metadata": {
        "colab": {
          "base_uri": "https://localhost:8080/"
        },
        "id": "csSeZqR0uTR5",
        "outputId": "1a55a4bf-52c8-4e68-ee0b-91850c078c99"
      },
      "execution_count": null,
      "outputs": [
        {
          "output_type": "stream",
          "name": "stdout",
          "text": [
            "   ID_Cliente  Idade Plano_de_Dados  Valor_da_Fatura\n",
            "0           1   25.0       Pós-Pago            150.0\n",
            "   ID_Cliente\n",
            "0           1\n",
            "1           2\n",
            "2           3\n",
            "3           4\n"
          ]
        }
      ]
    },
    {
      "cell_type": "markdown",
      "source": [
        "# Imputação com a Média ou Mediana\n",
        "\n",
        "Preencher valores faltantes com a média ou mediana pode ser útil para atributos como Idade ou Valor da Fatura."
      ],
      "metadata": {
        "id": "EWCa_oQmvKW-"
      }
    },
    {
      "cell_type": "code",
      "source": [
        "# Preenchendo valores faltantes com a média\n",
        "df_filled_mean = df.copy()\n",
        "df_filled_mean['Idade'] = df_filled_mean['Idade'].fillna(df_filled_mean['Idade'].mean())\n",
        "df_filled_mean['Valor_da_Fatura'] = df_filled_mean['Valor_da_Fatura'].fillna(df_filled_mean['Valor_da_Fatura'].mean())\n",
        "print(\"DataFrame preenchido com a média:\")\n",
        "\n",
        "# Preenchendo valores faltantes com a mediana\n",
        "df_filled_median = df.copy()\n",
        "df_filled_median['Idade'] = df_filled_median['Idade'].fillna(df_filled_median['Idade'].median())\n",
        "df_filled_median['Valor_da_Fatura'] = df_filled_median['Valor_da_Fatura'].fillna(df_filled_median['Valor_da_Fatura'].median())\n",
        "print(\"\\nDataFrame preenchido com a mediana:\")\n",
        "print(df_filled_median)"
      ],
      "metadata": {
        "colab": {
          "base_uri": "https://localhost:8080/"
        },
        "id": "oduFYsxwuVZe",
        "outputId": "46d821bb-22cc-4b35-be2a-fd37c57855c2"
      },
      "execution_count": null,
      "outputs": [
        {
          "output_type": "stream",
          "name": "stdout",
          "text": [
            "DataFrame preenchido com a média:\n",
            "\n",
            "DataFrame preenchido com a mediana:\n",
            "   ID_Cliente  Idade Plano_de_Dados  Valor_da_Fatura\n",
            "0           1   25.0       Pós-Pago            150.0\n",
            "1           2   30.0       Pós-Pago            150.0\n",
            "2           3   30.0       Pré-Pago            100.0\n",
            "3           4   40.0           None            200.0\n"
          ]
        }
      ]
    },
    {
      "cell_type": "markdown",
      "source": [
        "# Imputação KNN em Dados de Telecom\n",
        "\n",
        "Para dados mais complexos, como o Valor da Fatura, você pode usar a imputação KNN, preenchendo valores faltantes com base nos vizinhos mais próximos.\n",
        "\n",
        "Vamos usar Idade e Plano de Dados como variáveis preditoras."
      ],
      "metadata": {
        "id": "fUuxf71EvQlz"
      }
    },
    {
      "cell_type": "code",
      "source": [
        "from sklearn.impute import KNNImputer\n",
        "\n",
        "# Exemplo de imputação KNN para preencher valores faltantes em 'Valor_da_Fatura'\n",
        "df_knn = df[['Idade', 'Valor_da_Fatura']].copy()  # Selecionando variáveis relevantes\n",
        "imputer = KNNImputer(n_neighbors=2)\n",
        "\n",
        "# Aplicando imputação KNN\n",
        "df_knn_imputed = imputer.fit_transform(df_knn)\n",
        "df_knn_imputed = pd.DataFrame(df_knn_imputed, columns=['Idade', 'Valor_da_Fatura'])\n",
        "\n",
        "# Exibindo resultados\n",
        "print(df_knn_imputed)"
      ],
      "metadata": {
        "colab": {
          "base_uri": "https://localhost:8080/"
        },
        "id": "EHfH2-3yuYLg",
        "outputId": "8fa50194-bee2-4c89-9c40-3ce4f184af81"
      },
      "execution_count": null,
      "outputs": [
        {
          "output_type": "stream",
          "name": "stdout",
          "text": [
            "   Idade  Valor_da_Fatura\n",
            "0   25.0            150.0\n",
            "1   30.0            175.0\n",
            "2   32.5            100.0\n",
            "3   40.0            200.0\n"
          ]
        }
      ]
    },
    {
      "cell_type": "markdown",
      "source": [
        "# Preenchendo Valores Faltantes com um Valor Constante\n",
        "\n",
        "Pode ser útil preencher valores faltantes com valores específicos.\n",
        "\n",
        "No exemplo, podemos preencher Plano de Dados com 'Não Especificado' e Valor da Fatura com zero."
      ],
      "metadata": {
        "id": "p6RK_CNhvagf"
      }
    },
    {
      "cell_type": "code",
      "source": [
        "# Preenchendo valores faltantes com um valor constante\n",
        "df_filled_constant = df.fillna({'Plano_de_Dados': 'Não Especificado', 'Valor_da_Fatura': 0})\n",
        "print(df_filled_constant)"
      ],
      "metadata": {
        "colab": {
          "base_uri": "https://localhost:8080/"
        },
        "id": "-D4EGkFGueNM",
        "outputId": "645ef606-1e88-4fbf-f335-de6e3ed30278"
      },
      "execution_count": null,
      "outputs": [
        {
          "output_type": "stream",
          "name": "stdout",
          "text": [
            "   ID_Cliente  Idade    Plano_de_Dados  Valor_da_Fatura\n",
            "0           1   25.0          Pós-Pago            150.0\n",
            "1           2   30.0          Pós-Pago              0.0\n",
            "2           3    NaN          Pré-Pago            100.0\n",
            "3           4   40.0  Não Especificado            200.0\n"
          ]
        }
      ]
    },
    {
      "cell_type": "markdown",
      "source": [
        "# Imputação com o Uso de Outras Variáveis\n",
        "\n",
        "Pode ser mais eficaz preencher dados faltantes com base em outra variável relevante, como, por exemplo, o Plano de Dados para imputar o Valor da Fatura."
      ],
      "metadata": {
        "id": "eDvRsxBbvlPF"
      }
    },
    {
      "cell_type": "code",
      "source": [
        "# Preenchendo valores faltantes com base no 'Plano_de_Dados'\n",
        "df_filled_plano = df.groupby('Plano_de_Dados')['Valor_da_Fatura'].transform(lambda x: x.fillna(x.mean()))\n",
        "df['Valor_da_Fatura'] = df_filled_plano\n",
        "print(df)"
      ],
      "metadata": {
        "colab": {
          "base_uri": "https://localhost:8080/"
        },
        "id": "YHsW8UisugmL",
        "outputId": "f0319a96-dabf-43b3-9ee1-b361e970c7c7"
      },
      "execution_count": null,
      "outputs": [
        {
          "output_type": "stream",
          "name": "stdout",
          "text": [
            "   ID_Cliente  Idade Plano_de_Dados  Valor_da_Fatura\n",
            "0           1   25.0       Pós-Pago            150.0\n",
            "1           2   30.0       Pós-Pago            150.0\n",
            "2           3    NaN       Pré-Pago            100.0\n",
            "3           4   40.0           None              NaN\n"
          ]
        }
      ]
    }
  ]
}